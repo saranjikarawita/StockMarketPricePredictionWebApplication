{
 "cells": [
  {
   "cell_type": "markdown",
   "id": "3e7b5329-ec66-4016-bfc6-38aeadc5ec6a",
   "metadata": {},
   "source": [
    "# Import Libraries"
   ]
  },
  {
   "cell_type": "code",
   "execution_count": 39,
   "id": "b2dd9a57-fc7c-44d2-be3c-b201b5304078",
   "metadata": {},
   "outputs": [],
   "source": [
    "import pandas as pd\n",
    "import numpy as np\n",
    "import matplotlib.pyplot as plt\n",
    "import yfinance as yf"
   ]
  },
  {
   "cell_type": "markdown",
   "id": "5db195a6-93df-4cc4-8ef0-87876a50c762",
   "metadata": {},
   "source": [
    "# Load the Dataset"
   ]
  },
  {
   "cell_type": "code",
   "execution_count": 40,
   "id": "080c3ac1-4d33-4a90-b4bd-8f8d610100ec",
   "metadata": {},
   "outputs": [
    {
     "name": "stderr",
     "output_type": "stream",
     "text": [
      "[*********************100%%**********************]  1 of 1 completed\n"
     ]
    },
    {
     "data": {
      "text/html": [
       "<div>\n",
       "<style scoped>\n",
       "    .dataframe tbody tr th:only-of-type {\n",
       "        vertical-align: middle;\n",
       "    }\n",
       "\n",
       "    .dataframe tbody tr th {\n",
       "        vertical-align: top;\n",
       "    }\n",
       "\n",
       "    .dataframe thead th {\n",
       "        text-align: right;\n",
       "    }\n",
       "</style>\n",
       "<table border=\"1\" class=\"dataframe\">\n",
       "  <thead>\n",
       "    <tr style=\"text-align: right;\">\n",
       "      <th></th>\n",
       "      <th>Open</th>\n",
       "      <th>High</th>\n",
       "      <th>Low</th>\n",
       "      <th>Close</th>\n",
       "      <th>Adj Close</th>\n",
       "      <th>Volume</th>\n",
       "    </tr>\n",
       "    <tr>\n",
       "      <th>Date</th>\n",
       "      <th></th>\n",
       "      <th></th>\n",
       "      <th></th>\n",
       "      <th></th>\n",
       "      <th></th>\n",
       "      <th></th>\n",
       "    </tr>\n",
       "  </thead>\n",
       "  <tbody>\n",
       "    <tr>\n",
       "      <th>2012-01-03</th>\n",
       "      <td>16.262545</td>\n",
       "      <td>16.641375</td>\n",
       "      <td>16.248346</td>\n",
       "      <td>16.573130</td>\n",
       "      <td>16.554291</td>\n",
       "      <td>147611217</td>\n",
       "    </tr>\n",
       "    <tr>\n",
       "      <th>2012-01-04</th>\n",
       "      <td>16.563665</td>\n",
       "      <td>16.693678</td>\n",
       "      <td>16.453827</td>\n",
       "      <td>16.644611</td>\n",
       "      <td>16.625692</td>\n",
       "      <td>114989399</td>\n",
       "    </tr>\n",
       "    <tr>\n",
       "      <th>2012-01-05</th>\n",
       "      <td>16.491436</td>\n",
       "      <td>16.537264</td>\n",
       "      <td>16.344486</td>\n",
       "      <td>16.413727</td>\n",
       "      <td>16.395069</td>\n",
       "      <td>131808205</td>\n",
       "    </tr>\n",
       "    <tr>\n",
       "      <th>2012-01-06</th>\n",
       "      <td>16.417213</td>\n",
       "      <td>16.438385</td>\n",
       "      <td>16.184088</td>\n",
       "      <td>16.189817</td>\n",
       "      <td>16.171415</td>\n",
       "      <td>108119746</td>\n",
       "    </tr>\n",
       "    <tr>\n",
       "      <th>2012-01-09</th>\n",
       "      <td>16.102144</td>\n",
       "      <td>16.114599</td>\n",
       "      <td>15.472754</td>\n",
       "      <td>15.503389</td>\n",
       "      <td>15.485767</td>\n",
       "      <td>233776981</td>\n",
       "    </tr>\n",
       "  </tbody>\n",
       "</table>\n",
       "</div>"
      ],
      "text/plain": [
       "                 Open       High        Low      Close  Adj Close     Volume\n",
       "Date                                                                        \n",
       "2012-01-03  16.262545  16.641375  16.248346  16.573130  16.554291  147611217\n",
       "2012-01-04  16.563665  16.693678  16.453827  16.644611  16.625692  114989399\n",
       "2012-01-05  16.491436  16.537264  16.344486  16.413727  16.395069  131808205\n",
       "2012-01-06  16.417213  16.438385  16.184088  16.189817  16.171415  108119746\n",
       "2012-01-09  16.102144  16.114599  15.472754  15.503389  15.485767  233776981"
      ]
     },
     "execution_count": 40,
     "metadata": {},
     "output_type": "execute_result"
    }
   ],
   "source": [
    "start = '2012-01-01'\n",
    "end = '2022-12-21'\n",
    "stock = 'GOOG'\n",
    "\n",
    "data = yf.download(stock, start, end)\n",
    "data.head()"
   ]
  },
  {
   "cell_type": "code",
   "execution_count": 41,
   "id": "bb22b7d5-08c3-4ccd-9a57-067f536026c5",
   "metadata": {},
   "outputs": [
    {
     "data": {
      "text/html": [
       "<div>\n",
       "<style scoped>\n",
       "    .dataframe tbody tr th:only-of-type {\n",
       "        vertical-align: middle;\n",
       "    }\n",
       "\n",
       "    .dataframe tbody tr th {\n",
       "        vertical-align: top;\n",
       "    }\n",
       "\n",
       "    .dataframe thead th {\n",
       "        text-align: right;\n",
       "    }\n",
       "</style>\n",
       "<table border=\"1\" class=\"dataframe\">\n",
       "  <thead>\n",
       "    <tr style=\"text-align: right;\">\n",
       "      <th></th>\n",
       "      <th>Date</th>\n",
       "      <th>Open</th>\n",
       "      <th>High</th>\n",
       "      <th>Low</th>\n",
       "      <th>Close</th>\n",
       "      <th>Adj Close</th>\n",
       "      <th>Volume</th>\n",
       "    </tr>\n",
       "  </thead>\n",
       "  <tbody>\n",
       "    <tr>\n",
       "      <th>0</th>\n",
       "      <td>2012-01-03</td>\n",
       "      <td>16.262545</td>\n",
       "      <td>16.641375</td>\n",
       "      <td>16.248346</td>\n",
       "      <td>16.573130</td>\n",
       "      <td>16.554291</td>\n",
       "      <td>147611217</td>\n",
       "    </tr>\n",
       "    <tr>\n",
       "      <th>1</th>\n",
       "      <td>2012-01-04</td>\n",
       "      <td>16.563665</td>\n",
       "      <td>16.693678</td>\n",
       "      <td>16.453827</td>\n",
       "      <td>16.644611</td>\n",
       "      <td>16.625692</td>\n",
       "      <td>114989399</td>\n",
       "    </tr>\n",
       "    <tr>\n",
       "      <th>2</th>\n",
       "      <td>2012-01-05</td>\n",
       "      <td>16.491436</td>\n",
       "      <td>16.537264</td>\n",
       "      <td>16.344486</td>\n",
       "      <td>16.413727</td>\n",
       "      <td>16.395069</td>\n",
       "      <td>131808205</td>\n",
       "    </tr>\n",
       "    <tr>\n",
       "      <th>3</th>\n",
       "      <td>2012-01-06</td>\n",
       "      <td>16.417213</td>\n",
       "      <td>16.438385</td>\n",
       "      <td>16.184088</td>\n",
       "      <td>16.189817</td>\n",
       "      <td>16.171415</td>\n",
       "      <td>108119746</td>\n",
       "    </tr>\n",
       "    <tr>\n",
       "      <th>4</th>\n",
       "      <td>2012-01-09</td>\n",
       "      <td>16.102144</td>\n",
       "      <td>16.114599</td>\n",
       "      <td>15.472754</td>\n",
       "      <td>15.503389</td>\n",
       "      <td>15.485767</td>\n",
       "      <td>233776981</td>\n",
       "    </tr>\n",
       "  </tbody>\n",
       "</table>\n",
       "</div>"
      ],
      "text/plain": [
       "        Date       Open       High        Low      Close  Adj Close     Volume\n",
       "0 2012-01-03  16.262545  16.641375  16.248346  16.573130  16.554291  147611217\n",
       "1 2012-01-04  16.563665  16.693678  16.453827  16.644611  16.625692  114989399\n",
       "2 2012-01-05  16.491436  16.537264  16.344486  16.413727  16.395069  131808205\n",
       "3 2012-01-06  16.417213  16.438385  16.184088  16.189817  16.171415  108119746\n",
       "4 2012-01-09  16.102144  16.114599  15.472754  15.503389  15.485767  233776981"
      ]
     },
     "execution_count": 41,
     "metadata": {},
     "output_type": "execute_result"
    }
   ],
   "source": [
    "data = data.reset_index()\n",
    "data.head()"
   ]
  },
  {
   "cell_type": "code",
   "execution_count": 42,
   "id": "be5171f6-1bf9-4a07-85be-c5a5d1f60db2",
   "metadata": {},
   "outputs": [
    {
     "data": {
      "text/html": [
       "<div>\n",
       "<style scoped>\n",
       "    .dataframe tbody tr th:only-of-type {\n",
       "        vertical-align: middle;\n",
       "    }\n",
       "\n",
       "    .dataframe tbody tr th {\n",
       "        vertical-align: top;\n",
       "    }\n",
       "\n",
       "    .dataframe thead th {\n",
       "        text-align: right;\n",
       "    }\n",
       "</style>\n",
       "<table border=\"1\" class=\"dataframe\">\n",
       "  <thead>\n",
       "    <tr style=\"text-align: right;\">\n",
       "      <th></th>\n",
       "      <th>Open</th>\n",
       "      <th>High</th>\n",
       "      <th>Low</th>\n",
       "      <th>Close</th>\n",
       "      <th>Volume</th>\n",
       "    </tr>\n",
       "  </thead>\n",
       "  <tbody>\n",
       "    <tr>\n",
       "      <th>0</th>\n",
       "      <td>16.262545</td>\n",
       "      <td>16.641375</td>\n",
       "      <td>16.248346</td>\n",
       "      <td>16.573130</td>\n",
       "      <td>147611217</td>\n",
       "    </tr>\n",
       "    <tr>\n",
       "      <th>1</th>\n",
       "      <td>16.563665</td>\n",
       "      <td>16.693678</td>\n",
       "      <td>16.453827</td>\n",
       "      <td>16.644611</td>\n",
       "      <td>114989399</td>\n",
       "    </tr>\n",
       "    <tr>\n",
       "      <th>2</th>\n",
       "      <td>16.491436</td>\n",
       "      <td>16.537264</td>\n",
       "      <td>16.344486</td>\n",
       "      <td>16.413727</td>\n",
       "      <td>131808205</td>\n",
       "    </tr>\n",
       "    <tr>\n",
       "      <th>3</th>\n",
       "      <td>16.417213</td>\n",
       "      <td>16.438385</td>\n",
       "      <td>16.184088</td>\n",
       "      <td>16.189817</td>\n",
       "      <td>108119746</td>\n",
       "    </tr>\n",
       "    <tr>\n",
       "      <th>4</th>\n",
       "      <td>16.102144</td>\n",
       "      <td>16.114599</td>\n",
       "      <td>15.472754</td>\n",
       "      <td>15.503389</td>\n",
       "      <td>233776981</td>\n",
       "    </tr>\n",
       "  </tbody>\n",
       "</table>\n",
       "</div>"
      ],
      "text/plain": [
       "        Open       High        Low      Close     Volume\n",
       "0  16.262545  16.641375  16.248346  16.573130  147611217\n",
       "1  16.563665  16.693678  16.453827  16.644611  114989399\n",
       "2  16.491436  16.537264  16.344486  16.413727  131808205\n",
       "3  16.417213  16.438385  16.184088  16.189817  108119746\n",
       "4  16.102144  16.114599  15.472754  15.503389  233776981"
      ]
     },
     "execution_count": 42,
     "metadata": {},
     "output_type": "execute_result"
    }
   ],
   "source": [
    "data = data.drop(['Date', 'Adj Close'], axis =1)\n",
    "data.head()"
   ]
  },
  {
   "cell_type": "code",
   "execution_count": 43,
   "id": "78a44158-f8f6-4e52-8ec1-c46bacb59e27",
   "metadata": {},
   "outputs": [
    {
     "data": {
      "text/plain": [
       "[<matplotlib.lines.Line2D at 0x2ae0460a990>]"
      ]
     },
     "execution_count": 43,
     "metadata": {},
     "output_type": "execute_result"
    },
    {
     "data": {
      "image/png": "[encoded data removed]",
      "text/plain": [
       "<Figure size 640x480 with 1 Axes>"
      ]
     },
     "metadata": {},
     "output_type": "display_data"
    }
   ],
   "source": [
    "plt.plot(data.Close)"
   ]
  },
  {
   "cell_type": "code",
   "execution_count": 44,
   "id": "293b9912-0d70-4b64-ad94-689354d4cdcd",
   "metadata": {},
   "outputs": [],
   "source": [
    "ma_100_days = data.Close.rolling(100).mean()"
   ]
  },
  {
   "cell_type": "code",
   "execution_count": 45,
   "id": "fd45177f-323b-4c1e-b78d-da46955727a5",
   "metadata": {},
   "outputs": [
    {
     "data": {
      "image/png": "[encoded data removed]",
      "text/plain": [
       "<Figure size 800x600 with 1 Axes>"
      ]
     },
     "metadata": {},
     "output_type": "display_data"
    }
   ],
   "source": [
    "plt.figure(figsize=(8,6))\n",
    "plt.plot(ma_100_days, 'r')\n",
    "plt.plot(data.Close, 'g')\n",
    "plt.show()"
   ]
  },
  {
   "cell_type": "code",
   "execution_count": 46,
   "id": "12c9f64a-7a01-4aa2-8c8f-1de6eba56487",
   "metadata": {},
   "outputs": [],
   "source": [
    "ma_200_days = data.Close.rolling(200).mean()"
   ]
  },
  {
   "cell_type": "code",
   "execution_count": 47,
   "id": "b21f832e-4f9c-4d05-bb57-8336f23b2896",
   "metadata": {},
   "outputs": [
    {
     "data": {
      "image/png": "[encoded data removed]",
      "text/plain": [
       "<Figure size 800x600 with 1 Axes>"
      ]
     },
     "metadata": {},
     "output_type": "display_data"
    }
   ],
   "source": [
    "plt.figure(figsize=(8,6))\n",
    "plt.plot(ma_100_days, 'r')\n",
    "plt.plot(ma_200_days, 'b')\n",
    "plt.plot(data.Close, 'g')\n",
    "plt.show()"
   ]
  },
  {
   "cell_type": "markdown",
   "id": "57c3d0f1-5cd7-4f8b-aa8b-ea9bc4fd65bc",
   "metadata": {},
   "source": [
    "# Data Preprocessing"
   ]
  },
  {
   "cell_type": "code",
   "execution_count": 48,
   "id": "930ecee4-95a4-43cc-b5e2-f82c9f49cfe0",
   "metadata": {},
   "outputs": [
    {
     "data": {
      "text/plain": [
       "(2761, 5)"
      ]
     },
     "execution_count": 48,
     "metadata": {},
     "output_type": "execute_result"
    }
   ],
   "source": [
    "data.shape"
   ]
  },
  {
   "cell_type": "code",
   "execution_count": 49,
   "id": "5efe7359-a843-4400-91a2-791d7da3e021",
   "metadata": {},
   "outputs": [],
   "source": [
    "data.dropna(inplace=True)"
   ]
  },
  {
   "cell_type": "markdown",
   "id": "d046a216-3652-4650-9d7b-3eeacc14c03e",
   "metadata": {},
   "source": [
    "# Splitting Data into Training and Testing"
   ]
  },
  {
   "cell_type": "code",
   "execution_count": 50,
   "id": "88e20e27-d030-4834-a5a5-dd867ceffe88",
   "metadata": {},
   "outputs": [],
   "source": [
    "data_train = pd.DataFrame(data['Close'][0: int(len(data)*0.80)])\n",
    "data_test = pd.DataFrame(data['Close'][int(len(data)*0.80): len(data)])"
   ]
  },
  {
   "cell_type": "code",
   "execution_count": 51,
   "id": "b682e62d-7a49-4b5e-a9cc-328cd6b678d8",
   "metadata": {},
   "outputs": [
    {
     "data": {
      "text/plain": [
       "(2208, 1)"
      ]
     },
     "execution_count": 51,
     "metadata": {},
     "output_type": "execute_result"
    }
   ],
   "source": [
    "data_train.shape"
   ]
  },
  {
   "cell_type": "code",
   "execution_count": 52,
   "id": "9787a475-13e3-4b03-89ec-6e615e09a7e4",
   "metadata": {},
   "outputs": [
    {
     "data": {
      "text/plain": [
       "(553, 1)"
      ]
     },
     "execution_count": 52,
     "metadata": {},
     "output_type": "execute_result"
    }
   ],
   "source": [
    "data_test.shape"
   ]
  },
  {
   "cell_type": "markdown",
   "id": "85342bf0-26b2-4430-9cdb-6602b7d4fce1",
   "metadata": {},
   "source": [
    "# Fit the model"
   ]
  },
  {
   "cell_type": "code",
   "execution_count": 53,
   "id": "8836e4dc-a14a-4618-b6b6-5543c98025dc",
   "metadata": {},
   "outputs": [],
   "source": [
    "from sklearn.preprocessing import MinMaxScaler\n",
    "scaler = MinMaxScaler(feature_range=(0,1))"
   ]
  },
  {
   "cell_type": "code",
   "execution_count": 54,
   "id": "1cbcea1e-e4bf-43d9-852b-39c721e2f4d1",
   "metadata": {},
   "outputs": [],
   "source": [
    "data_train_scale = scaler.fit_transform(data_train)"
   ]
  },
  {
   "cell_type": "code",
   "execution_count": 55,
   "id": "2f5dd149-0f7f-48be-98f9-b7ec32b9cfe3",
   "metadata": {},
   "outputs": [],
   "source": [
    "# ML Model"
   ]
  },
  {
   "cell_type": "code",
   "execution_count": 64,
   "id": "f0c4a209-160f-44c7-8d30-564a466bf6dc",
   "metadata": {},
   "outputs": [],
   "source": [
    "x_train = []\n",
    "y_train = []\n",
    "\n",
    "for i in range(100, data_train_scale.shape[0]):\n",
    "   x_train.append(data_train_scale[i-100:i])\n",
    "   y_train.append(data_train_scale[i,0])"
   ]
  },
  {
   "cell_type": "code",
   "execution_count": 65,
   "id": "b0dcb445-932f-4da8-8620-0b1cb9607032",
   "metadata": {},
   "outputs": [],
   "source": [
    "x_train, y_train = np.array(x_train), np.array(y_train)"
   ]
  },
  {
   "cell_type": "code",
   "execution_count": 66,
   "id": "5d715e51-01ae-4ac9-8e22-78ed6767debf",
   "metadata": {},
   "outputs": [],
   "source": [
    "from keras.layers import Dense, Dropout, LSTM\n",
    "from keras.models import Sequential"
   ]
  },
  {
   "cell_type": "code",
   "execution_count": 68,
   "id": "dc072c96-a718-48b0-b8dd-c2b09914cbfa",
   "metadata": {},
   "outputs": [],
   "source": [
    "model = Sequential()\n",
    "model.add(LSTM(units = 50, activation='relu', return_sequences = True,\n",
    "               input_shape = (x_train.shape[1],1)))\n",
    "model.add(Dropout(0.2))\n",
    "\n",
    "model.add(LSTM(units = 60, activation='relu', return_sequences = True))\n",
    "model.add(Dropout(0.3))\n",
    "\n",
    "model.add(LSTM(units = 80, activation='relu', return_sequences = True))\n",
    "model.add(Dropout(0.4))\n",
    "\n",
    "model.add(LSTM(units = 120, activation='relu'))\n",
    "model.add(Dropout(0.5))\n",
    "\n",
    "model.add(Dense(units=1))"
   ]
  },
  {
   "cell_type": "code",
   "execution_count": 69,
   "id": "d53f9a30-c791-4110-8bc3-3345ad693c45",
   "metadata": {},
   "outputs": [],
   "source": [
    "model.compile(optimizer = 'adam' , loss = 'mean_squared_error')"
   ]
  },
  {
   "cell_type": "code",
   "execution_count": 71,
   "id": "08fa53d3-7051-4ad5-8dde-b5dfc0bf1352",
   "metadata": {},
   "outputs": [
    {
     "name": "stdout",
     "output_type": "stream",
     "text": [
      "Epoch 1/50\n",
      "\u001b[1m66/66\u001b[0m \u001b[32m━━━━━━━━━━━━━━━━━━━━\u001b[0m\u001b[37m\u001b[0m \u001b[1m14s\u001b[0m 104ms/step - loss: 0.0674\n",
      "Epoch 2/50\n",
      "\u001b[1m66/66\u001b[0m \u001b[32m━━━━━━━━━━━━━━━━━━━━\u001b[0m\u001b[37m\u001b[0m \u001b[1m7s\u001b[0m 109ms/step - loss: 0.0061\n",
      "Epoch 3/50\n",
      "\u001b[1m66/66\u001b[0m \u001b[32m━━━━━━━━━━━━━━━━━━━━\u001b[0m\u001b[37m\u001b[0m \u001b[1m7s\u001b[0m 102ms/step - loss: 0.0056\n",
      "Epoch 4/50\n",
      "\u001b[1m66/66\u001b[0m \u001b[32m━━━━━━━━━━━━━━━━━━━━\u001b[0m\u001b[37m\u001b[0m \u001b[1m8s\u001b[0m 118ms/step - loss: 0.0054\n",
      "Epoch 5/50\n",
      "\u001b[1m66/66\u001b[0m \u001b[32m━━━━━━━━━━━━━━━━━━━━\u001b[0m\u001b[37m\u001b[0m \u001b[1m6s\u001b[0m 95ms/step - loss: 0.0044\n",
      "Epoch 6/50\n",
      "\u001b[1m66/66\u001b[0m \u001b[32m━━━━━━━━━━━━━━━━━━━━\u001b[0m\u001b[37m\u001b[0m \u001b[1m7s\u001b[0m 108ms/step - loss: 0.0049\n",
      "Epoch 7/50\n",
      "\u001b[1m66/66\u001b[0m \u001b[32m━━━━━━━━━━━━━━━━━━━━\u001b[0m\u001b[37m\u001b[0m \u001b[1m8s\u001b[0m 123ms/step - loss: 0.0046\n",
      "Epoch 8/50\n",
      "\u001b[1m66/66\u001b[0m \u001b[32m━━━━━━━━━━━━━━━━━━━━\u001b[0m\u001b[37m\u001b[0m \u001b[1m8s\u001b[0m 120ms/step - loss: 0.0040\n",
      "Epoch 9/50\n",
      "\u001b[1m66/66\u001b[0m \u001b[32m━━━━━━━━━━━━━━━━━━━━\u001b[0m\u001b[37m\u001b[0m \u001b[1m7s\u001b[0m 103ms/step - loss: 0.0040\n",
      "Epoch 10/50\n",
      "\u001b[1m66/66\u001b[0m \u001b[32m━━━━━━━━━━━━━━━━━━━━\u001b[0m\u001b[37m\u001b[0m \u001b[1m7s\u001b[0m 110ms/step - loss: 0.0040\n",
      "Epoch 11/50\n",
      "\u001b[1m66/66\u001b[0m \u001b[32m━━━━━━━━━━━━━━━━━━━━\u001b[0m\u001b[37m\u001b[0m \u001b[1m7s\u001b[0m 111ms/step - loss: 0.0044\n",
      "Epoch 12/50\n",
      "\u001b[1m66/66\u001b[0m \u001b[32m━━━━━━━━━━━━━━━━━━━━\u001b[0m\u001b[37m\u001b[0m \u001b[1m8s\u001b[0m 123ms/step - loss: 0.0033\n",
      "Epoch 13/50\n",
      "\u001b[1m66/66\u001b[0m \u001b[32m━━━━━━━━━━━━━━━━━━━━\u001b[0m\u001b[37m\u001b[0m \u001b[1m7s\u001b[0m 108ms/step - loss: 0.0039\n",
      "Epoch 14/50\n",
      "\u001b[1m66/66\u001b[0m \u001b[32m━━━━━━━━━━━━━━━━━━━━\u001b[0m\u001b[37m\u001b[0m \u001b[1m8s\u001b[0m 125ms/step - loss: 0.0033\n",
      "Epoch 15/50\n",
      "\u001b[1m66/66\u001b[0m \u001b[32m━━━━━━━━━━━━━━━━━━━━\u001b[0m\u001b[37m\u001b[0m \u001b[1m8s\u001b[0m 124ms/step - loss: 0.0032\n",
      "Epoch 16/50\n",
      "\u001b[1m66/66\u001b[0m \u001b[32m━━━━━━━━━━━━━━━━━━━━\u001b[0m\u001b[37m\u001b[0m \u001b[1m8s\u001b[0m 123ms/step - loss: 0.0029\n",
      "Epoch 17/50\n",
      "\u001b[1m66/66\u001b[0m \u001b[32m━━━━━━━━━━━━━━━━━━━━\u001b[0m\u001b[37m\u001b[0m \u001b[1m8s\u001b[0m 116ms/step - loss: 0.0028\n",
      "Epoch 18/50\n",
      "\u001b[1m66/66\u001b[0m \u001b[32m━━━━━━━━━━━━━━━━━━━━\u001b[0m\u001b[37m\u001b[0m \u001b[1m9s\u001b[0m 132ms/step - loss: 0.0028\n",
      "Epoch 19/50\n",
      "\u001b[1m66/66\u001b[0m \u001b[32m━━━━━━━━━━━━━━━━━━━━\u001b[0m\u001b[37m\u001b[0m \u001b[1m9s\u001b[0m 134ms/step - loss: 0.0028\n",
      "Epoch 20/50\n",
      "\u001b[1m66/66\u001b[0m \u001b[32m━━━━━━━━━━━━━━━━━━━━\u001b[0m\u001b[37m\u001b[0m \u001b[1m8s\u001b[0m 115ms/step - loss: 0.0028\n",
      "Epoch 21/50\n",
      "\u001b[1m66/66\u001b[0m \u001b[32m━━━━━━━━━━━━━━━━━━━━\u001b[0m\u001b[37m\u001b[0m \u001b[1m7s\u001b[0m 106ms/step - loss: 0.0030\n",
      "Epoch 22/50\n",
      "\u001b[1m66/66\u001b[0m \u001b[32m━━━━━━━━━━━━━━━━━━━━\u001b[0m\u001b[37m\u001b[0m \u001b[1m8s\u001b[0m 116ms/step - loss: 0.0027\n",
      "Epoch 23/50\n",
      "\u001b[1m66/66\u001b[0m \u001b[32m━━━━━━━━━━━━━━━━━━━━\u001b[0m\u001b[37m\u001b[0m \u001b[1m8s\u001b[0m 116ms/step - loss: 0.0028\n",
      "Epoch 24/50\n",
      "\u001b[1m66/66\u001b[0m \u001b[32m━━━━━━━━━━━━━━━━━━━━\u001b[0m\u001b[37m\u001b[0m \u001b[1m8s\u001b[0m 122ms/step - loss: 0.0025\n",
      "Epoch 25/50\n",
      "\u001b[1m66/66\u001b[0m \u001b[32m━━━━━━━━━━━━━━━━━━━━\u001b[0m\u001b[37m\u001b[0m \u001b[1m8s\u001b[0m 117ms/step - loss: 0.0024\n",
      "Epoch 26/50\n",
      "\u001b[1m66/66\u001b[0m \u001b[32m━━━━━━━━━━━━━━━━━━━━\u001b[0m\u001b[37m\u001b[0m \u001b[1m8s\u001b[0m 119ms/step - loss: 0.0028\n",
      "Epoch 27/50\n",
      "\u001b[1m66/66\u001b[0m \u001b[32m━━━━━━━━━━━━━━━━━━━━\u001b[0m\u001b[37m\u001b[0m \u001b[1m8s\u001b[0m 113ms/step - loss: 0.0023\n",
      "Epoch 28/50\n",
      "\u001b[1m66/66\u001b[0m \u001b[32m━━━━━━━━━━━━━━━━━━━━\u001b[0m\u001b[37m\u001b[0m \u001b[1m8s\u001b[0m 120ms/step - loss: 0.0027\n",
      "Epoch 29/50\n",
      "\u001b[1m66/66\u001b[0m \u001b[32m━━━━━━━━━━━━━━━━━━━━\u001b[0m\u001b[37m\u001b[0m \u001b[1m8s\u001b[0m 121ms/step - loss: 0.0021\n",
      "Epoch 30/50\n",
      "\u001b[1m66/66\u001b[0m \u001b[32m━━━━━━━━━━━━━━━━━━━━\u001b[0m\u001b[37m\u001b[0m \u001b[1m8s\u001b[0m 116ms/step - loss: 0.0021\n",
      "Epoch 31/50\n",
      "\u001b[1m66/66\u001b[0m \u001b[32m━━━━━━━━━━━━━━━━━━━━\u001b[0m\u001b[37m\u001b[0m \u001b[1m8s\u001b[0m 116ms/step - loss: 0.0022\n",
      "Epoch 32/50\n",
      "\u001b[1m66/66\u001b[0m \u001b[32m━━━━━━━━━━━━━━━━━━━━\u001b[0m\u001b[37m\u001b[0m \u001b[1m8s\u001b[0m 122ms/step - loss: 0.0019\n",
      "Epoch 33/50\n",
      "\u001b[1m66/66\u001b[0m \u001b[32m━━━━━━━━━━━━━━━━━━━━\u001b[0m\u001b[37m\u001b[0m \u001b[1m8s\u001b[0m 121ms/step - loss: 0.0020\n",
      "Epoch 34/50\n",
      "\u001b[1m66/66\u001b[0m \u001b[32m━━━━━━━━━━━━━━━━━━━━\u001b[0m\u001b[37m\u001b[0m \u001b[1m8s\u001b[0m 123ms/step - loss: 0.0020\n",
      "Epoch 35/50\n",
      "\u001b[1m66/66\u001b[0m \u001b[32m━━━━━━━━━━━━━━━━━━━━\u001b[0m\u001b[37m\u001b[0m \u001b[1m8s\u001b[0m 122ms/step - loss: 0.0018\n",
      "Epoch 36/50\n",
      "\u001b[1m66/66\u001b[0m \u001b[32m━━━━━━━━━━━━━━━━━━━━\u001b[0m\u001b[37m\u001b[0m \u001b[1m8s\u001b[0m 128ms/step - loss: 0.0021\n",
      "Epoch 37/50\n",
      "\u001b[1m66/66\u001b[0m \u001b[32m━━━━━━━━━━━━━━━━━━━━\u001b[0m\u001b[37m\u001b[0m \u001b[1m8s\u001b[0m 124ms/step - loss: 0.0020\n",
      "Epoch 38/50\n",
      "\u001b[1m66/66\u001b[0m \u001b[32m━━━━━━━━━━━━━━━━━━━━\u001b[0m\u001b[37m\u001b[0m \u001b[1m8s\u001b[0m 121ms/step - loss: 0.0019\n",
      "Epoch 39/50\n",
      "\u001b[1m66/66\u001b[0m \u001b[32m━━━━━━━━━━━━━━━━━━━━\u001b[0m\u001b[37m\u001b[0m \u001b[1m8s\u001b[0m 125ms/step - loss: 0.0018\n",
      "Epoch 40/50\n",
      "\u001b[1m66/66\u001b[0m \u001b[32m━━━━━━━━━━━━━━━━━━━━\u001b[0m\u001b[37m\u001b[0m \u001b[1m8s\u001b[0m 124ms/step - loss: 0.0022\n",
      "Epoch 41/50\n",
      "\u001b[1m66/66\u001b[0m \u001b[32m━━━━━━━━━━━━━━━━━━━━\u001b[0m\u001b[37m\u001b[0m \u001b[1m8s\u001b[0m 119ms/step - loss: 0.0020\n",
      "Epoch 42/50\n",
      "\u001b[1m66/66\u001b[0m \u001b[32m━━━━━━━━━━━━━━━━━━━━\u001b[0m\u001b[37m\u001b[0m \u001b[1m8s\u001b[0m 126ms/step - loss: 0.0019\n",
      "Epoch 43/50\n",
      "\u001b[1m66/66\u001b[0m \u001b[32m━━━━━━━━━━━━━━━━━━━━\u001b[0m\u001b[37m\u001b[0m \u001b[1m8s\u001b[0m 122ms/step - loss: 0.0020\n",
      "Epoch 44/50\n",
      "\u001b[1m66/66\u001b[0m \u001b[32m━━━━━━━━━━━━━━━━━━━━\u001b[0m\u001b[37m\u001b[0m \u001b[1m8s\u001b[0m 124ms/step - loss: 0.0017\n",
      "Epoch 45/50\n",
      "\u001b[1m66/66\u001b[0m \u001b[32m━━━━━━━━━━━━━━━━━━━━\u001b[0m\u001b[37m\u001b[0m \u001b[1m8s\u001b[0m 119ms/step - loss: 0.0018\n",
      "Epoch 46/50\n",
      "\u001b[1m66/66\u001b[0m \u001b[32m━━━━━━━━━━━━━━━━━━━━\u001b[0m\u001b[37m\u001b[0m \u001b[1m8s\u001b[0m 126ms/step - loss: 0.0019\n",
      "Epoch 47/50\n",
      "\u001b[1m66/66\u001b[0m \u001b[32m━━━━━━━━━━━━━━━━━━━━\u001b[0m\u001b[37m\u001b[0m \u001b[1m8s\u001b[0m 119ms/step - loss: 0.0017\n",
      "Epoch 48/50\n",
      "\u001b[1m66/66\u001b[0m \u001b[32m━━━━━━━━━━━━━━━━━━━━\u001b[0m\u001b[37m\u001b[0m \u001b[1m8s\u001b[0m 125ms/step - loss: 0.0020\n",
      "Epoch 49/50\n",
      "\u001b[1m66/66\u001b[0m \u001b[32m━━━━━━━━━━━━━━━━━━━━\u001b[0m\u001b[37m\u001b[0m \u001b[1m8s\u001b[0m 119ms/step - loss: 0.0019\n",
      "Epoch 50/50\n",
      "\u001b[1m66/66\u001b[0m \u001b[32m━━━━━━━━━━━━━━━━━━━━\u001b[0m\u001b[37m\u001b[0m \u001b[1m9s\u001b[0m 144ms/step - loss: 0.0020\n"
     ]
    },
    {
     "data": {
      "text/plain": [
       "<keras.src.callbacks.history.History at 0x2ae0f927910>"
      ]
     },
     "execution_count": 71,
     "metadata": {},
     "output_type": "execute_result"
    }
   ],
   "source": [
    "model.fit(x_train,y_train, epochs=50, batch_size = 32, verbose = 1)"
   ]
  },
  {
   "cell_type": "code",
   "execution_count": 72,
   "id": "c42fac65-d1fc-470a-a966-be0f404bbbc4",
   "metadata": {},
   "outputs": [
    {
     "data": {
      "text/html": [
       "<pre style=\"white-space:pre;overflow-x:auto;line-height:normal;font-family:Menlo,'DejaVu Sans Mono',consolas,'Courier New',monospace\"><span style=\"font-weight: bold\">Model: \"sequential_5\"</span>\n",
       "</pre>\n"
      ],
      "text/plain": [
       "\u001b[1mModel: \"sequential_5\"\u001b[0m\n"
      ]
     },
     "metadata": {},
     "output_type": "display_data"
    },
    {
     "data": {
      "text/html": [
       "<pre style=\"white-space:pre;overflow-x:auto;line-height:normal;font-family:Menlo,'DejaVu Sans Mono',consolas,'Courier New',monospace\">┏━━━━━━━━━━━━━━━━━━━━━━━━━━━━━━━━━┳━━━━━━━━━━━━━━━━━━━━━━━━┳━━━━━━━━━━━━━━━┓\n",
       "┃<span style=\"font-weight: bold\"> Layer (type)                    </span>┃<span style=\"font-weight: bold\"> Output Shape           </span>┃<span style=\"font-weight: bold\">       Param # </span>┃\n",
       "┡━━━━━━━━━━━━━━━━━━━━━━━━━━━━━━━━━╇━━━━━━━━━━━━━━━━━━━━━━━━╇━━━━━━━━━━━━━━━┩\n",
       "│ lstm_8 (<span style=\"color: #0087ff; text-decoration-color: #0087ff\">LSTM</span>)                   │ (<span style=\"color: #00d7ff; text-decoration-color: #00d7ff\">None</span>, <span style=\"color: #00af00; text-decoration-color: #00af00\">100</span>, <span style=\"color: #00af00; text-decoration-color: #00af00\">50</span>)        │        <span style=\"color: #00af00; text-decoration-color: #00af00\">10,400</span> │\n",
       "├─────────────────────────────────┼────────────────────────┼───────────────┤\n",
       "│ dropout_8 (<span style=\"color: #0087ff; text-decoration-color: #0087ff\">Dropout</span>)             │ (<span style=\"color: #00d7ff; text-decoration-color: #00d7ff\">None</span>, <span style=\"color: #00af00; text-decoration-color: #00af00\">100</span>, <span style=\"color: #00af00; text-decoration-color: #00af00\">50</span>)        │             <span style=\"color: #00af00; text-decoration-color: #00af00\">0</span> │\n",
       "├─────────────────────────────────┼────────────────────────┼───────────────┤\n",
       "│ lstm_9 (<span style=\"color: #0087ff; text-decoration-color: #0087ff\">LSTM</span>)                   │ (<span style=\"color: #00d7ff; text-decoration-color: #00d7ff\">None</span>, <span style=\"color: #00af00; text-decoration-color: #00af00\">100</span>, <span style=\"color: #00af00; text-decoration-color: #00af00\">60</span>)        │        <span style=\"color: #00af00; text-decoration-color: #00af00\">26,640</span> │\n",
       "├─────────────────────────────────┼────────────────────────┼───────────────┤\n",
       "│ dropout_9 (<span style=\"color: #0087ff; text-decoration-color: #0087ff\">Dropout</span>)             │ (<span style=\"color: #00d7ff; text-decoration-color: #00d7ff\">None</span>, <span style=\"color: #00af00; text-decoration-color: #00af00\">100</span>, <span style=\"color: #00af00; text-decoration-color: #00af00\">60</span>)        │             <span style=\"color: #00af00; text-decoration-color: #00af00\">0</span> │\n",
       "├─────────────────────────────────┼────────────────────────┼───────────────┤\n",
       "│ lstm_10 (<span style=\"color: #0087ff; text-decoration-color: #0087ff\">LSTM</span>)                  │ (<span style=\"color: #00d7ff; text-decoration-color: #00d7ff\">None</span>, <span style=\"color: #00af00; text-decoration-color: #00af00\">100</span>, <span style=\"color: #00af00; text-decoration-color: #00af00\">80</span>)        │        <span style=\"color: #00af00; text-decoration-color: #00af00\">45,120</span> │\n",
       "├─────────────────────────────────┼────────────────────────┼───────────────┤\n",
       "│ dropout_10 (<span style=\"color: #0087ff; text-decoration-color: #0087ff\">Dropout</span>)            │ (<span style=\"color: #00d7ff; text-decoration-color: #00d7ff\">None</span>, <span style=\"color: #00af00; text-decoration-color: #00af00\">100</span>, <span style=\"color: #00af00; text-decoration-color: #00af00\">80</span>)        │             <span style=\"color: #00af00; text-decoration-color: #00af00\">0</span> │\n",
       "├─────────────────────────────────┼────────────────────────┼───────────────┤\n",
       "│ lstm_11 (<span style=\"color: #0087ff; text-decoration-color: #0087ff\">LSTM</span>)                  │ (<span style=\"color: #00d7ff; text-decoration-color: #00d7ff\">None</span>, <span style=\"color: #00af00; text-decoration-color: #00af00\">120</span>)            │        <span style=\"color: #00af00; text-decoration-color: #00af00\">96,480</span> │\n",
       "├─────────────────────────────────┼────────────────────────┼───────────────┤\n",
       "│ dropout_11 (<span style=\"color: #0087ff; text-decoration-color: #0087ff\">Dropout</span>)            │ (<span style=\"color: #00d7ff; text-decoration-color: #00d7ff\">None</span>, <span style=\"color: #00af00; text-decoration-color: #00af00\">120</span>)            │             <span style=\"color: #00af00; text-decoration-color: #00af00\">0</span> │\n",
       "├─────────────────────────────────┼────────────────────────┼───────────────┤\n",
       "│ dense_2 (<span style=\"color: #0087ff; text-decoration-color: #0087ff\">Dense</span>)                 │ (<span style=\"color: #00d7ff; text-decoration-color: #00d7ff\">None</span>, <span style=\"color: #00af00; text-decoration-color: #00af00\">1</span>)              │           <span style=\"color: #00af00; text-decoration-color: #00af00\">121</span> │\n",
       "└─────────────────────────────────┴────────────────────────┴───────────────┘\n",
       "</pre>\n"
      ],
      "text/plain": [
       "┏━━━━━━━━━━━━━━━━━━━━━━━━━━━━━━━━━┳━━━━━━━━━━━━━━━━━━━━━━━━┳━━━━━━━━━━━━━━━┓\n",
       "┃\u001b[1m \u001b[0m\u001b[1mLayer (type)                   \u001b[0m\u001b[1m \u001b[0m┃\u001b[1m \u001b[0m\u001b[1mOutput Shape          \u001b[0m\u001b[1m \u001b[0m┃\u001b[1m \u001b[0m\u001b[1m      Param #\u001b[0m\u001b[1m \u001b[0m┃\n",
       "┡━━━━━━━━━━━━━━━━━━━━━━━━━━━━━━━━━╇━━━━━━━━━━━━━━━━━━━━━━━━╇━━━━━━━━━━━━━━━┩\n",
       "│ lstm_8 (\u001b[38;5;33mLSTM\u001b[0m)                   │ (\u001b[38;5;45mNone\u001b[0m, \u001b[38;5;34m100\u001b[0m, \u001b[38;5;34m50\u001b[0m)        │        \u001b[38;5;34m10,400\u001b[0m │\n",
       "├─────────────────────────────────┼────────────────────────┼───────────────┤\n",
       "│ dropout_8 (\u001b[38;5;33mDropout\u001b[0m)             │ (\u001b[38;5;45mNone\u001b[0m, \u001b[38;5;34m100\u001b[0m, \u001b[38;5;34m50\u001b[0m)        │             \u001b[38;5;34m0\u001b[0m │\n",
       "├─────────────────────────────────┼────────────────────────┼───────────────┤\n",
       "│ lstm_9 (\u001b[38;5;33mLSTM\u001b[0m)                   │ (\u001b[38;5;45mNone\u001b[0m, \u001b[38;5;34m100\u001b[0m, \u001b[38;5;34m60\u001b[0m)        │        \u001b[38;5;34m26,640\u001b[0m │\n",
       "├─────────────────────────────────┼────────────────────────┼───────────────┤\n",
       "│ dropout_9 (\u001b[38;5;33mDropout\u001b[0m)             │ (\u001b[38;5;45mNone\u001b[0m, \u001b[38;5;34m100\u001b[0m, \u001b[38;5;34m60\u001b[0m)        │             \u001b[38;5;34m0\u001b[0m │\n",
       "├─────────────────────────────────┼────────────────────────┼───────────────┤\n",
       "│ lstm_10 (\u001b[38;5;33mLSTM\u001b[0m)                  │ (\u001b[38;5;45mNone\u001b[0m, \u001b[38;5;34m100\u001b[0m, \u001b[38;5;34m80\u001b[0m)        │        \u001b[38;5;34m45,120\u001b[0m │\n",
       "├─────────────────────────────────┼────────────────────────┼───────────────┤\n",
       "│ dropout_10 (\u001b[38;5;33mDropout\u001b[0m)            │ (\u001b[38;5;45mNone\u001b[0m, \u001b[38;5;34m100\u001b[0m, \u001b[38;5;34m80\u001b[0m)        │             \u001b[38;5;34m0\u001b[0m │\n",
       "├─────────────────────────────────┼────────────────────────┼───────────────┤\n",
       "│ lstm_11 (\u001b[38;5;33mLSTM\u001b[0m)                  │ (\u001b[38;5;45mNone\u001b[0m, \u001b[38;5;34m120\u001b[0m)            │        \u001b[38;5;34m96,480\u001b[0m │\n",
       "├─────────────────────────────────┼────────────────────────┼───────────────┤\n",
       "│ dropout_11 (\u001b[38;5;33mDropout\u001b[0m)            │ (\u001b[38;5;45mNone\u001b[0m, \u001b[38;5;34m120\u001b[0m)            │             \u001b[38;5;34m0\u001b[0m │\n",
       "├─────────────────────────────────┼────────────────────────┼───────────────┤\n",
       "│ dense_2 (\u001b[38;5;33mDense\u001b[0m)                 │ (\u001b[38;5;45mNone\u001b[0m, \u001b[38;5;34m1\u001b[0m)              │           \u001b[38;5;34m121\u001b[0m │\n",
       "└─────────────────────────────────┴────────────────────────┴───────────────┘\n"
      ]
     },
     "metadata": {},
     "output_type": "display_data"
    },
    {
     "data": {
      "text/html": [
       "<pre style=\"white-space:pre;overflow-x:auto;line-height:normal;font-family:Menlo,'DejaVu Sans Mono',consolas,'Courier New',monospace\"><span style=\"font-weight: bold\"> Total params: </span><span style=\"color: #00af00; text-decoration-color: #00af00\">536,285</span> (2.05 MB)\n",
       "</pre>\n"
      ],
      "text/plain": [
       "\u001b[1m Total params: \u001b[0m\u001b[38;5;34m536,285\u001b[0m (2.05 MB)\n"
      ]
     },
     "metadata": {},
     "output_type": "display_data"
    },
    {
     "data": {
      "text/html": [
       "<pre style=\"white-space:pre;overflow-x:auto;line-height:normal;font-family:Menlo,'DejaVu Sans Mono',consolas,'Courier New',monospace\"><span style=\"font-weight: bold\"> Trainable params: </span><span style=\"color: #00af00; text-decoration-color: #00af00\">178,761</span> (698.29 KB)\n",
       "</pre>\n"
      ],
      "text/plain": [
       "\u001b[1m Trainable params: \u001b[0m\u001b[38;5;34m178,761\u001b[0m (698.29 KB)\n"
      ]
     },
     "metadata": {},
     "output_type": "display_data"
    },
    {
     "data": {
      "text/html": [
       "<pre style=\"white-space:pre;overflow-x:auto;line-height:normal;font-family:Menlo,'DejaVu Sans Mono',consolas,'Courier New',monospace\"><span style=\"font-weight: bold\"> Non-trainable params: </span><span style=\"color: #00af00; text-decoration-color: #00af00\">0</span> (0.00 B)\n",
       "</pre>\n"
      ],
      "text/plain": [
       "\u001b[1m Non-trainable params: \u001b[0m\u001b[38;5;34m0\u001b[0m (0.00 B)\n"
      ]
     },
     "metadata": {},
     "output_type": "display_data"
    },
    {
     "data": {
      "text/html": [
       "<pre style=\"white-space:pre;overflow-x:auto;line-height:normal;font-family:Menlo,'DejaVu Sans Mono',consolas,'Courier New',monospace\"><span style=\"font-weight: bold\"> Optimizer params: </span><span style=\"color: #00af00; text-decoration-color: #00af00\">357,524</span> (1.36 MB)\n",
       "</pre>\n"
      ],
      "text/plain": [
       "\u001b[1m Optimizer params: \u001b[0m\u001b[38;5;34m357,524\u001b[0m (1.36 MB)\n"
      ]
     },
     "metadata": {},
     "output_type": "display_data"
    }
   ],
   "source": [
    "model.summary()"
   ]
  },
  {
   "cell_type": "code",
   "execution_count": 73,
   "id": "c28667c7-6a3b-4e17-b5fa-93055d31830e",
   "metadata": {},
   "outputs": [
    {
     "data": {
      "text/html": [
       "<div>\n",
       "<style scoped>\n",
       "    .dataframe tbody tr th:only-of-type {\n",
       "        vertical-align: middle;\n",
       "    }\n",
       "\n",
       "    .dataframe tbody tr th {\n",
       "        vertical-align: top;\n",
       "    }\n",
       "\n",
       "    .dataframe thead th {\n",
       "        text-align: right;\n",
       "    }\n",
       "</style>\n",
       "<table border=\"1\" class=\"dataframe\">\n",
       "  <thead>\n",
       "    <tr style=\"text-align: right;\">\n",
       "      <th></th>\n",
       "      <th>Close</th>\n",
       "    </tr>\n",
       "  </thead>\n",
       "  <tbody>\n",
       "    <tr>\n",
       "      <th>2208</th>\n",
       "      <td>78.457497</td>\n",
       "    </tr>\n",
       "    <tr>\n",
       "      <th>2209</th>\n",
       "      <td>78.584000</td>\n",
       "    </tr>\n",
       "    <tr>\n",
       "      <th>2210</th>\n",
       "      <td>78.403999</td>\n",
       "    </tr>\n",
       "    <tr>\n",
       "      <th>2211</th>\n",
       "      <td>77.956497</td>\n",
       "    </tr>\n",
       "    <tr>\n",
       "      <th>2212</th>\n",
       "      <td>78.650497</td>\n",
       "    </tr>\n",
       "  </tbody>\n",
       "</table>\n",
       "</div>"
      ],
      "text/plain": [
       "          Close\n",
       "2208  78.457497\n",
       "2209  78.584000\n",
       "2210  78.403999\n",
       "2211  77.956497\n",
       "2212  78.650497"
      ]
     },
     "execution_count": 73,
     "metadata": {},
     "output_type": "execute_result"
    }
   ],
   "source": [
    "data_test.head()"
   ]
  },
  {
   "cell_type": "code",
   "execution_count": 74,
   "id": "0d2b92f3-ea7f-433d-86c1-4a896b4c4e05",
   "metadata": {},
   "outputs": [],
   "source": [
    "past_100_days = data_train.tail(100)"
   ]
  },
  {
   "cell_type": "code",
   "execution_count": 75,
   "id": "30a6a8c5-f3f1-4cbf-aa99-499da954c8bf",
   "metadata": {},
   "outputs": [],
   "source": [
    "final_data = pd.concat([past_100_days, data_test], ignore_index=True)"
   ]
  },
  {
   "cell_type": "code",
   "execution_count": 76,
   "id": "e00f5398-b4be-4122-999e-d26b873107b9",
   "metadata": {},
   "outputs": [
    {
     "data": {
      "text/html": [
       "<div>\n",
       "<style scoped>\n",
       "    .dataframe tbody tr th:only-of-type {\n",
       "        vertical-align: middle;\n",
       "    }\n",
       "\n",
       "    .dataframe tbody tr th {\n",
       "        vertical-align: top;\n",
       "    }\n",
       "\n",
       "    .dataframe thead th {\n",
       "        text-align: right;\n",
       "    }\n",
       "</style>\n",
       "<table border=\"1\" class=\"dataframe\">\n",
       "  <thead>\n",
       "    <tr style=\"text-align: right;\">\n",
       "      <th></th>\n",
       "      <th>Close</th>\n",
       "    </tr>\n",
       "  </thead>\n",
       "  <tbody>\n",
       "    <tr>\n",
       "      <th>0</th>\n",
       "      <td>70.335999</td>\n",
       "    </tr>\n",
       "    <tr>\n",
       "      <th>1</th>\n",
       "      <td>70.139999</td>\n",
       "    </tr>\n",
       "    <tr>\n",
       "      <th>2</th>\n",
       "      <td>70.521004</td>\n",
       "    </tr>\n",
       "    <tr>\n",
       "      <th>3</th>\n",
       "      <td>70.850998</td>\n",
       "    </tr>\n",
       "    <tr>\n",
       "      <th>4</th>\n",
       "      <td>70.891998</td>\n",
       "    </tr>\n",
       "    <tr>\n",
       "      <th>...</th>\n",
       "      <td>...</td>\n",
       "    </tr>\n",
       "    <tr>\n",
       "      <th>648</th>\n",
       "      <td>95.309998</td>\n",
       "    </tr>\n",
       "    <tr>\n",
       "      <th>649</th>\n",
       "      <td>91.199997</td>\n",
       "    </tr>\n",
       "    <tr>\n",
       "      <th>650</th>\n",
       "      <td>90.860001</td>\n",
       "    </tr>\n",
       "    <tr>\n",
       "      <th>651</th>\n",
       "      <td>89.150002</td>\n",
       "    </tr>\n",
       "    <tr>\n",
       "      <th>652</th>\n",
       "      <td>89.629997</td>\n",
       "    </tr>\n",
       "  </tbody>\n",
       "</table>\n",
       "<p>653 rows × 1 columns</p>\n",
       "</div>"
      ],
      "text/plain": [
       "         Close\n",
       "0    70.335999\n",
       "1    70.139999\n",
       "2    70.521004\n",
       "3    70.850998\n",
       "4    70.891998\n",
       "..         ...\n",
       "648  95.309998\n",
       "649  91.199997\n",
       "650  90.860001\n",
       "651  89.150002\n",
       "652  89.629997\n",
       "\n",
       "[653 rows x 1 columns]"
      ]
     },
     "execution_count": 76,
     "metadata": {},
     "output_type": "execute_result"
    }
   ],
   "source": [
    "final_data"
   ]
  },
  {
   "cell_type": "code",
   "execution_count": 77,
   "id": "cfb919a1-0236-47a3-a58c-3930b8efa0a4",
   "metadata": {},
   "outputs": [],
   "source": [
    "data_test_scale = scaler.fit_transform(final_data)"
   ]
  },
  {
   "cell_type": "code",
   "execution_count": 86,
   "id": "6ded2ef8-b41d-4579-9c26-da3bc7922484",
   "metadata": {},
   "outputs": [],
   "source": [
    "x_test = []\n",
    "y_test = []\n",
    "\n",
    "for i in range(100, data_test_scale.shape[0]):\n",
    "   x_test.append(data_test_scale[i-100:i])\n",
    "   y_test.append(data_test_scale[i,0])\n",
    "\n",
    "x_test, y_test = np.array(x_test), np.array(y_test)"
   ]
  },
  {
   "cell_type": "code",
   "execution_count": 87,
   "id": "79fd3c8d-0720-41c5-9078-908c5ba6ff07",
   "metadata": {},
   "outputs": [],
   "source": [
    "#Making Predictions"
   ]
  },
  {
   "cell_type": "code",
   "execution_count": 90,
   "id": "62c2aea3-676c-4e0e-b1e6-a04fd67b5149",
   "metadata": {},
   "outputs": [
    {
     "name": "stdout",
     "output_type": "stream",
     "text": [
      "\u001b[1m18/18\u001b[0m \u001b[32m━━━━━━━━━━━━━━━━━━━━\u001b[0m\u001b[37m\u001b[0m \u001b[1m1s\u001b[0m 36ms/step\n"
     ]
    }
   ],
   "source": [
    "y_predict = model.predict(x_test)"
   ]
  },
  {
   "cell_type": "code",
   "execution_count": 91,
   "id": "43e161f1-e082-4365-828f-13a3747cf19a",
   "metadata": {},
   "outputs": [
    {
     "data": {
      "text/plain": [
       "array([[0.13618253],\n",
       "       [0.1348871 ],\n",
       "       [0.1344078 ],\n",
       "       [0.13476923],\n",
       "       [0.13593651],\n",
       "       [0.13784379],\n",
       "       [0.1403185 ],\n",
       "       [0.14318945],\n",
       "       [0.14638348],\n",
       "       [0.14990559],\n",
       "       [0.15378582],\n",
       "       [0.1579496 ],\n",
       "       [0.16231114],\n",
       "       [0.16663724],\n",
       "       [0.17072874],\n",
       "       [0.17453726],\n",
       "       [0.17808132],\n",
       "       [0.18145584],\n",
       "       [0.184949  ],\n",
       "       [0.18884513],\n",
       "       [0.19334972],\n",
       "       [0.1984902 ],\n",
       "       [0.20415008],\n",
       "       [0.21020676],\n",
       "       [0.21647324],\n",
       "       [0.22272687],\n",
       "       [0.22882037],\n",
       "       [0.23472166],\n",
       "       [0.24047026],\n",
       "       [0.24613115],\n",
       "       [0.25162664],\n",
       "       [0.25669253],\n",
       "       [0.26118153],\n",
       "       [0.2650227 ],\n",
       "       [0.26819617],\n",
       "       [0.27075398],\n",
       "       [0.2728534 ],\n",
       "       [0.27479976],\n",
       "       [0.27692354],\n",
       "       [0.27944005],\n",
       "       [0.28243163],\n",
       "       [0.2858331 ],\n",
       "       [0.2894366 ],\n",
       "       [0.29296944],\n",
       "       [0.2961927 ],\n",
       "       [0.29887658],\n",
       "       [0.30085102],\n",
       "       [0.3019794 ],\n",
       "       [0.3021743 ],\n",
       "       [0.30141392],\n",
       "       [0.29971924],\n",
       "       [0.2971191 ],\n",
       "       [0.29355645],\n",
       "       [0.28927654],\n",
       "       [0.28459814],\n",
       "       [0.27987024],\n",
       "       [0.27536395],\n",
       "       [0.27127498],\n",
       "       [0.26763386],\n",
       "       [0.26446986],\n",
       "       [0.26175895],\n",
       "       [0.25959572],\n",
       "       [0.25809872],\n",
       "       [0.25731605],\n",
       "       [0.25718033],\n",
       "       [0.2576046 ],\n",
       "       [0.25844064],\n",
       "       [0.2594719 ],\n",
       "       [0.2606372 ],\n",
       "       [0.26225525],\n",
       "       [0.26466393],\n",
       "       [0.26814872],\n",
       "       [0.2728608 ],\n",
       "       [0.27870223],\n",
       "       [0.28552395],\n",
       "       [0.29274172],\n",
       "       [0.29981673],\n",
       "       [0.30625683],\n",
       "       [0.31195888],\n",
       "       [0.3172733 ],\n",
       "       [0.3230233 ],\n",
       "       [0.32992393],\n",
       "       [0.3381788 ],\n",
       "       [0.34745514],\n",
       "       [0.35763913],\n",
       "       [0.36853164],\n",
       "       [0.37993965],\n",
       "       [0.39149553],\n",
       "       [0.40277445],\n",
       "       [0.41342372],\n",
       "       [0.4230921 ],\n",
       "       [0.4314463 ],\n",
       "       [0.4383462 ],\n",
       "       [0.44384408],\n",
       "       [0.4479704 ],\n",
       "       [0.45084378],\n",
       "       [0.45269543],\n",
       "       [0.45372766],\n",
       "       [0.45401168],\n",
       "       [0.4536634 ],\n",
       "       [0.45298344],\n",
       "       [0.4520682 ],\n",
       "       [0.45101225],\n",
       "       [0.44990242],\n",
       "       [0.44896787],\n",
       "       [0.44829077],\n",
       "       [0.44788516],\n",
       "       [0.44779414],\n",
       "       [0.44804212],\n",
       "       [0.44846803],\n",
       "       [0.44889233],\n",
       "       [0.4491555 ],\n",
       "       [0.44918728],\n",
       "       [0.44895756],\n",
       "       [0.44847226],\n",
       "       [0.44774377],\n",
       "       [0.44685227],\n",
       "       [0.4458952 ],\n",
       "       [0.44499618],\n",
       "       [0.4444465 ],\n",
       "       [0.4447916 ],\n",
       "       [0.44636697],\n",
       "       [0.44989315],\n",
       "       [0.45643324],\n",
       "       [0.46651423],\n",
       "       [0.47931165],\n",
       "       [0.49352726],\n",
       "       [0.5074994 ],\n",
       "       [0.52048963],\n",
       "       [0.53210753],\n",
       "       [0.5421836 ],\n",
       "       [0.55049914],\n",
       "       [0.5569677 ],\n",
       "       [0.5614029 ],\n",
       "       [0.5643239 ],\n",
       "       [0.56649363],\n",
       "       [0.5683051 ],\n",
       "       [0.5710035 ],\n",
       "       [0.5760663 ],\n",
       "       [0.5841074 ],\n",
       "       [0.59453964],\n",
       "       [0.60531247],\n",
       "       [0.61454153],\n",
       "       [0.6215189 ],\n",
       "       [0.62648034],\n",
       "       [0.6289724 ],\n",
       "       [0.62846434],\n",
       "       [0.62456715],\n",
       "       [0.6177655 ],\n",
       "       [0.60927105],\n",
       "       [0.600364  ],\n",
       "       [0.5919899 ],\n",
       "       [0.5848199 ],\n",
       "       [0.5797843 ],\n",
       "       [0.5775467 ],\n",
       "       [0.5790458 ],\n",
       "       [0.5846561 ],\n",
       "       [0.5943433 ],\n",
       "       [0.6067049 ],\n",
       "       [0.62001264],\n",
       "       [0.63296616],\n",
       "       [0.64435613],\n",
       "       [0.6529931 ],\n",
       "       [0.6591724 ],\n",
       "       [0.6637925 ],\n",
       "       [0.6679368 ],\n",
       "       [0.67241526],\n",
       "       [0.6780869 ],\n",
       "       [0.6850034 ],\n",
       "       [0.69292927],\n",
       "       [0.7011275 ],\n",
       "       [0.7086072 ],\n",
       "       [0.7148644 ],\n",
       "       [0.71930075],\n",
       "       [0.72200966],\n",
       "       [0.72353166],\n",
       "       [0.72417533],\n",
       "       [0.724517  ],\n",
       "       [0.72486585],\n",
       "       [0.7252847 ],\n",
       "       [0.72541857],\n",
       "       [0.7247269 ],\n",
       "       [0.72340053],\n",
       "       [0.72277486],\n",
       "       [0.724223  ],\n",
       "       [0.7284791 ],\n",
       "       [0.7349887 ],\n",
       "       [0.74281204],\n",
       "       [0.75126827],\n",
       "       [0.7598054 ],\n",
       "       [0.7682744 ],\n",
       "       [0.7759739 ],\n",
       "       [0.7824789 ],\n",
       "       [0.7863291 ],\n",
       "       [0.78758633],\n",
       "       [0.78743386],\n",
       "       [0.7872709 ],\n",
       "       [0.7893438 ],\n",
       "       [0.7952557 ],\n",
       "       [0.80447876],\n",
       "       [0.8153073 ],\n",
       "       [0.8259311 ],\n",
       "       [0.8342636 ],\n",
       "       [0.83953816],\n",
       "       [0.8418659 ],\n",
       "       [0.84168565],\n",
       "       [0.8400966 ],\n",
       "       [0.83812803],\n",
       "       [0.836947  ],\n",
       "       [0.8372229 ],\n",
       "       [0.83886117],\n",
       "       [0.8417457 ],\n",
       "       [0.8454977 ],\n",
       "       [0.8498202 ],\n",
       "       [0.8535169 ],\n",
       "       [0.855388  ],\n",
       "       [0.85510683],\n",
       "       [0.8536511 ],\n",
       "       [0.8531039 ],\n",
       "       [0.85515183],\n",
       "       [0.8605738 ],\n",
       "       [0.8686812 ],\n",
       "       [0.8791103 ],\n",
       "       [0.8912607 ],\n",
       "       [0.9039486 ],\n",
       "       [0.91593945],\n",
       "       [0.9251209 ],\n",
       "       [0.93051445],\n",
       "       [0.9324282 ],\n",
       "       [0.93128794],\n",
       "       [0.9278454 ],\n",
       "       [0.92154527],\n",
       "       [0.91344804],\n",
       "       [0.9049241 ],\n",
       "       [0.8981487 ],\n",
       "       [0.894185  ],\n",
       "       [0.891924  ],\n",
       "       [0.8891325 ],\n",
       "       [0.8849874 ],\n",
       "       [0.8802518 ],\n",
       "       [0.8763645 ],\n",
       "       [0.8747127 ],\n",
       "       [0.87542087],\n",
       "       [0.8754632 ],\n",
       "       [0.87208676],\n",
       "       [0.8639676 ],\n",
       "       [0.8529585 ],\n",
       "       [0.84028924],\n",
       "       [0.82841283],\n",
       "       [0.8197268 ],\n",
       "       [0.8160765 ],\n",
       "       [0.8181896 ],\n",
       "       [0.82538456],\n",
       "       [0.8349575 ],\n",
       "       [0.8448489 ],\n",
       "       [0.85507953],\n",
       "       [0.8656216 ],\n",
       "       [0.876552  ],\n",
       "       [0.88773954],\n",
       "       [0.89780366],\n",
       "       [0.9056358 ],\n",
       "       [0.90845305],\n",
       "       [0.9053874 ],\n",
       "       [0.89754283],\n",
       "       [0.8895334 ],\n",
       "       [0.88460034],\n",
       "       [0.8848538 ],\n",
       "       [0.889103  ],\n",
       "       [0.89638233],\n",
       "       [0.90574   ],\n",
       "       [0.9167426 ],\n",
       "       [0.92871225],\n",
       "       [0.9405969 ],\n",
       "       [0.9511487 ],\n",
       "       [0.9578455 ],\n",
       "       [0.9595952 ],\n",
       "       [0.9582162 ],\n",
       "       [0.95531416],\n",
       "       [0.9519885 ],\n",
       "       [0.94897574],\n",
       "       [0.9474961 ],\n",
       "       [0.94774526],\n",
       "       [0.94798094],\n",
       "       [0.9468773 ],\n",
       "       [0.9440224 ],\n",
       "       [0.937795  ],\n",
       "       [0.92979413],\n",
       "       [0.92017925],\n",
       "       [0.90931785],\n",
       "       [0.89917576],\n",
       "       [0.89093244],\n",
       "       [0.8859235 ],\n",
       "       [0.8858719 ],\n",
       "       [0.89143485],\n",
       "       [0.901759  ],\n",
       "       [0.9153126 ],\n",
       "       [0.9291833 ],\n",
       "       [0.93994313],\n",
       "       [0.9469856 ],\n",
       "       [0.9491708 ],\n",
       "       [0.9456423 ],\n",
       "       [0.9367679 ],\n",
       "       [0.92501605],\n",
       "       [0.9141365 ],\n",
       "       [0.9068185 ],\n",
       "       [0.9045723 ],\n",
       "       [0.9069418 ],\n",
       "       [0.9126714 ],\n",
       "       [0.91983795],\n",
       "       [0.92602503],\n",
       "       [0.9299613 ],\n",
       "       [0.93100363],\n",
       "       [0.92592007],\n",
       "       [0.9141512 ],\n",
       "       [0.8970668 ],\n",
       "       [0.8776534 ],\n",
       "       [0.85951936],\n",
       "       [0.8460082 ],\n",
       "       [0.83835924],\n",
       "       [0.83674884],\n",
       "       [0.838842  ],\n",
       "       [0.84200084],\n",
       "       [0.8434015 ],\n",
       "       [0.84017813],\n",
       "       [0.8318123 ],\n",
       "       [0.81823325],\n",
       "       [0.8014326 ],\n",
       "       [0.783705  ],\n",
       "       [0.76836735],\n",
       "       [0.7584262 ],\n",
       "       [0.75577   ],\n",
       "       [0.76226395],\n",
       "       [0.77724624],\n",
       "       [0.79851925],\n",
       "       [0.8217539 ],\n",
       "       [0.84320056],\n",
       "       [0.8615065 ],\n",
       "       [0.87457657],\n",
       "       [0.8794103 ],\n",
       "       [0.87608176],\n",
       "       [0.86694306],\n",
       "       [0.8551359 ],\n",
       "       [0.84127855],\n",
       "       [0.82560515],\n",
       "       [0.8085919 ],\n",
       "       [0.79063857],\n",
       "       [0.77424335],\n",
       "       [0.7622688 ],\n",
       "       [0.7565738 ],\n",
       "       [0.7575487 ],\n",
       "       [0.764506  ],\n",
       "       [0.77589774],\n",
       "       [0.78852016],\n",
       "       [0.79698706],\n",
       "       [0.79885614],\n",
       "       [0.796764  ],\n",
       "       [0.79316455],\n",
       "       [0.788984  ],\n",
       "       [0.7831758 ],\n",
       "       [0.7763604 ],\n",
       "       [0.77093005],\n",
       "       [0.76894224],\n",
       "       [0.77176213],\n",
       "       [0.77951956],\n",
       "       [0.7921394 ],\n",
       "       [0.80816126],\n",
       "       [0.8264731 ],\n",
       "       [0.8456597 ],\n",
       "       [0.86417866],\n",
       "       [0.8810541 ],\n",
       "       [0.89498407],\n",
       "       [0.9034016 ],\n",
       "       [0.90589553],\n",
       "       [0.9046617 ],\n",
       "       [0.90052515],\n",
       "       [0.8925394 ],\n",
       "       [0.88068885],\n",
       "       [0.8651175 ],\n",
       "       [0.8457696 ],\n",
       "       [0.82339036],\n",
       "       [0.8000098 ],\n",
       "       [0.7770585 ],\n",
       "       [0.75608647],\n",
       "       [0.7391599 ],\n",
       "       [0.72747123],\n",
       "       [0.7201828 ],\n",
       "       [0.71404195],\n",
       "       [0.70799863],\n",
       "       [0.7008404 ],\n",
       "       [0.6912408 ],\n",
       "       [0.6797919 ],\n",
       "       [0.6668465 ],\n",
       "       [0.6533298 ],\n",
       "       [0.6403694 ],\n",
       "       [0.6296784 ],\n",
       "       [0.62150586],\n",
       "       [0.6152788 ],\n",
       "       [0.60978353],\n",
       "       [0.6044698 ],\n",
       "       [0.59906125],\n",
       "       [0.5933948 ],\n",
       "       [0.588096  ],\n",
       "       [0.5835196 ],\n",
       "       [0.58027935],\n",
       "       [0.57780945],\n",
       "       [0.57518524],\n",
       "       [0.57160896],\n",
       "       [0.56711423],\n",
       "       [0.5614549 ],\n",
       "       [0.5547535 ],\n",
       "       [0.5474133 ],\n",
       "       [0.54002625],\n",
       "       [0.5334611 ],\n",
       "       [0.5286857 ],\n",
       "       [0.5269476 ],\n",
       "       [0.5286369 ],\n",
       "       [0.5341068 ],\n",
       "       [0.54312176],\n",
       "       [0.55472714],\n",
       "       [0.56665933],\n",
       "       [0.57578903],\n",
       "       [0.5800394 ],\n",
       "       [0.5793888 ],\n",
       "       [0.5750536 ],\n",
       "       [0.56817615],\n",
       "       [0.5597686 ],\n",
       "       [0.5507922 ],\n",
       "       [0.54205287],\n",
       "       [0.5343994 ],\n",
       "       [0.5292009 ],\n",
       "       [0.52766204],\n",
       "       [0.5292459 ],\n",
       "       [0.5326739 ],\n",
       "       [0.53613734],\n",
       "       [0.5383586 ],\n",
       "       [0.539515  ],\n",
       "       [0.54037887],\n",
       "       [0.5424345 ],\n",
       "       [0.5472542 ],\n",
       "       [0.5546458 ],\n",
       "       [0.56300783],\n",
       "       [0.56988907],\n",
       "       [0.57387495],\n",
       "       [0.57486165],\n",
       "       [0.57298505],\n",
       "       [0.56933665],\n",
       "       [0.5650568 ],\n",
       "       [0.5611726 ],\n",
       "       [0.55728704],\n",
       "       [0.55294263],\n",
       "       [0.5477884 ],\n",
       "       [0.5423327 ],\n",
       "       [0.5375003 ],\n",
       "       [0.5344115 ],\n",
       "       [0.533998  ],\n",
       "       [0.5368334 ],\n",
       "       [0.5434681 ],\n",
       "       [0.5538411 ],\n",
       "       [0.56690216],\n",
       "       [0.58100945],\n",
       "       [0.5942075 ],\n",
       "       [0.60618126],\n",
       "       [0.6165805 ],\n",
       "       [0.62622094],\n",
       "       [0.6357646 ],\n",
       "       [0.6451864 ],\n",
       "       [0.65317047],\n",
       "       [0.6588089 ],\n",
       "       [0.66083616],\n",
       "       [0.6583253 ],\n",
       "       [0.65165764],\n",
       "       [0.6419064 ],\n",
       "       [0.6306746 ],\n",
       "       [0.61854124],\n",
       "       [0.6059725 ],\n",
       "       [0.59335953],\n",
       "       [0.58101726],\n",
       "       [0.56927514],\n",
       "       [0.55832875],\n",
       "       [0.5482173 ],\n",
       "       [0.5390676 ],\n",
       "       [0.53101254],\n",
       "       [0.52445865],\n",
       "       [0.5198363 ],\n",
       "       [0.51640517],\n",
       "       [0.5134086 ],\n",
       "       [0.5102731 ],\n",
       "       [0.50674504],\n",
       "       [0.5027765 ],\n",
       "       [0.49836907],\n",
       "       [0.49355468],\n",
       "       [0.4883419 ],\n",
       "       [0.48262227],\n",
       "       [0.47640294],\n",
       "       [0.4697985 ],\n",
       "       [0.4629454 ],\n",
       "       [0.45592123],\n",
       "       [0.44872767],\n",
       "       [0.44152832],\n",
       "       [0.43483025],\n",
       "       [0.42906892],\n",
       "       [0.42453563],\n",
       "       [0.4212276 ],\n",
       "       [0.41893318],\n",
       "       [0.41730946],\n",
       "       [0.4160288 ],\n",
       "       [0.4149227 ],\n",
       "       [0.4137669 ],\n",
       "       [0.41259205],\n",
       "       [0.4115553 ],\n",
       "       [0.41076145],\n",
       "       [0.41028997],\n",
       "       [0.41023058],\n",
       "       [0.4107321 ],\n",
       "       [0.41190875],\n",
       "       [0.41338357],\n",
       "       [0.41444677],\n",
       "       [0.4146082 ],\n",
       "       [0.4136468 ],\n",
       "       [0.41087517],\n",
       "       [0.4055552 ],\n",
       "       [0.39761603],\n",
       "       [0.38692492],\n",
       "       [0.37444916],\n",
       "       [0.36230895],\n",
       "       [0.35177287],\n",
       "       [0.34311604],\n",
       "       [0.33594927],\n",
       "       [0.33007184],\n",
       "       [0.32537398],\n",
       "       [0.32217982],\n",
       "       [0.32070005],\n",
       "       [0.3214224 ],\n",
       "       [0.32440707],\n",
       "       [0.3295012 ],\n",
       "       [0.33602273],\n",
       "       [0.3430261 ],\n",
       "       [0.3498222 ],\n",
       "       [0.35602203],\n",
       "       [0.36161232],\n",
       "       [0.36675462],\n",
       "       [0.37160596],\n",
       "       [0.37625653],\n",
       "       [0.38057458],\n",
       "       [0.38426477],\n",
       "       [0.38694954],\n",
       "       [0.38813448],\n",
       "       [0.38727087],\n",
       "       [0.38442805],\n",
       "       [0.37993416],\n",
       "       [0.37397143],\n",
       "       [0.36695796],\n",
       "       [0.35957837]], dtype=float32)"
      ]
     },
     "execution_count": 91,
     "metadata": {},
     "output_type": "execute_result"
    }
   ],
   "source": [
    "y_predict"
   ]
  },
  {
   "cell_type": "code",
   "execution_count": 96,
   "id": "a358961e-52c8-4b54-8fca-5ed8c1b5c999",
   "metadata": {},
   "outputs": [],
   "source": [
    "scale_factor = 1/scaler.scale_"
   ]
  },
  {
   "cell_type": "code",
   "execution_count": 97,
   "id": "3957ef27-b581-46b3-ae5e-0c9ce3f39dbb",
   "metadata": {},
   "outputs": [
    {
     "data": {
      "text/plain": [
       "array([82.71399689])"
      ]
     },
     "execution_count": 97,
     "metadata": {},
     "output_type": "execute_result"
    }
   ],
   "source": [
    "scale_factor"
   ]
  },
  {
   "cell_type": "code",
   "execution_count": 98,
   "id": "08342040-cf21-4437-b1d9-a42cf91cdca2",
   "metadata": {},
   "outputs": [],
   "source": [
    "y_predict = y_predict*scale_factor"
   ]
  },
  {
   "cell_type": "code",
   "execution_count": 99,
   "id": "830d0820-9aba-4035-a263-7e2e4fd61b5d",
   "metadata": {},
   "outputs": [],
   "source": [
    "y_test = y_test*scale_factor"
   ]
  },
  {
   "cell_type": "code",
   "execution_count": 100,
   "id": "0d9595d7-e3ab-434f-8be2-dcf5c1bd98e3",
   "metadata": {},
   "outputs": [
    {
     "data": {
      "image/png": "[encoded data removed]",
      "text/plain": [
       "<Figure size 1000x800 with 1 Axes>"
      ]
     },
     "metadata": {},
     "output_type": "display_data"
    }
   ],
   "source": [
    "plt.figure(figsize=(10,8))\n",
    "plt.plot(y_predict, 'r', label = 'Predicted Price')\n",
    "plt.plot(y_test, 'g', label = 'Original Price')\n",
    "plt.xlabel('Time')\n",
    "plt.ylabel('Price')\n",
    "plt.legend()\n",
    "plt.show()"
   ]
  },
  {
   "cell_type": "markdown",
   "id": "4c9ea830-ac16-42cd-941a-812ea38ce37d",
   "metadata": {},
   "source": [
    "# Save the Model"
   ]
  },
  {
   "cell_type": "code",
   "execution_count": 101,
   "id": "4de6d764-a1be-402c-a713-193e4adc027f",
   "metadata": {},
   "outputs": [],
   "source": [
    "model.save('Stock Predictions Model.keras')"
   ]
  },
  {
   "cell_type": "code",
   "execution_count": null,
   "id": "21665bbf-b925-4871-bd6b-7575e88ecf3b",
   "metadata": {},
   "outputs": [],
   "source": []
  }
 ],
 "metadata": {
  "kernelspec": {
   "display_name": "Python 3 (ipykernel)",
   "language": "python",
   "name": "python3"
  },
  "language_info": {
   "codemirror_mode": {
    "name": "ipython",
    "version": 3
   },
   "file_extension": ".py",
   "mimetype": "text/x-python",
   "name": "python",
   "nbconvert_exporter": "python",
   "pygments_lexer": "ipython3",
   "version": "3.11.7"
  }
 },
 "nbformat": 4,
 "nbformat_minor": 5
}
